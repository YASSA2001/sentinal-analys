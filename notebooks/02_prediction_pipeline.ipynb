{
  "nbformat": 4,
  "nbformat_minor": 0,
  "metadata": {
    "colab": {
      "provenance": []
    },
    "kernelspec": {
      "name": "python3",
      "display_name": "Python 3"
    },
    "language_info": {
      "name": "python"
    }
  },
  "cells": [
    {
      "cell_type": "code",
      "execution_count": null,
      "metadata": {
        "colab": {
          "base_uri": "https://localhost:8080/"
        },
        "id": "xnQ_0RfzHIdw",
        "outputId": "97728dcc-3828-4ee5-8ab8-e8a951c0d442"
      },
      "outputs": [
        {
          "output_type": "stream",
          "name": "stdout",
          "text": [
            "/content/drive/MyDrive/ColabNotebooks/AI ML project\n"
          ]
        }
      ],
      "source": [
        "cd /content/drive/MyDrive/ColabNotebooks/AI ML project"
      ]
    },
    {
      "cell_type": "code",
      "source": [
        "import numpy as np\n",
        "import pandas as pd\n",
        "import re\n",
        "import string\n",
        "from nltk.stem import PorterStemmer\n",
        "ps = PorterStemmer()\n",
        "import pickle"
      ],
      "metadata": {
        "id": "HMPsYpH0ID8I"
      },
      "execution_count": null,
      "outputs": []
    },
    {
      "cell_type": "code",
      "source": [
        "with open('static/model/model.pickle', 'rb') as f:\n",
        "  model = pickle.load(f)"
      ],
      "metadata": {
        "id": "Ej2RcaZ5vL18"
      },
      "execution_count": null,
      "outputs": []
    },
    {
      "cell_type": "code",
      "source": [
        "def remove_punctuation(text):\n",
        "  for punctuation in string.punctuation:\n",
        "    text = text.replace(punctuation, '')\n",
        "  return text"
      ],
      "metadata": {
        "id": "_BqvnhmaZC8k"
      },
      "execution_count": null,
      "outputs": []
    },
    {
      "cell_type": "code",
      "source": [
        "#open stopwords for remove stopwords from the dataset\n",
        "with open('static/model/corpora/stopwords/english', 'r') as file:\n",
        "  sw = file.read().splitlines()"
      ],
      "metadata": {
        "id": "tH_v5d0qZELG"
      },
      "execution_count": null,
      "outputs": []
    },
    {
      "cell_type": "code",
      "source": [
        "vocab = pd.read_csv(\"static/model/vocabulary.txt\", header=None) #../statis/model/vocabulary.txt\n",
        "token = vocab[0].tolist()"
      ],
      "metadata": {
        "id": "FnWyHbCtvYjr"
      },
      "execution_count": null,
      "outputs": []
    },
    {
      "cell_type": "code",
      "source": [
        "def preprocessing(text):\n",
        "  data = pd.DataFrame(text, columns=[\"tweet\"])\n",
        "  #convert uppercase to lowercase\n",
        "  data[\"tweet\"] = data[\"tweet\"].apply(lambda x: \" \".join(x.lower() for x in x.split()))\n",
        "\n",
        "  #remove links\n",
        "  data[\"tweet\"] = data[\"tweet\"].apply(lambda x: \" \".join(re.sub(r'^https?:\\/\\/.*[\\r\\n]*', '', x, flags=re.MULTILINE) for x in x.split()))\n",
        "\n",
        "  #remove punctuation\n",
        "  data[\"tweet\"] = data[\"tweet\"].apply(remove_punctuation)\n",
        "\n",
        "  #remove numbers\n",
        "  data[\"tweet\"] = data[\"tweet\"].str.replace('\\d+', '', regex=True)\n",
        "\n",
        "  #remove stopwords\n",
        "  data[\"tweet\"] = data[\"tweet\"].apply(lambda x: \" \".join(x for x in x.split() if x not in sw))\n",
        "\n",
        "  #stemming\n",
        "  data[\"tweet\"] = data[\"tweet\"].apply(lambda x: \" \".join(ps.stem(x) for x in x.split()))\n",
        "\n",
        "  return data[\"tweet\"]\n"
      ],
      "metadata": {
        "id": "KNWjJnUqIHaU"
      },
      "execution_count": null,
      "outputs": []
    },
    {
      "cell_type": "code",
      "source": [
        "def vectorizer(dataset , vocabulary):\n",
        "  vectorized_list = []\n",
        "\n",
        "  for sentence in dataset:\n",
        "    sentence_list = np.zeros(len(vocabulary))\n",
        "\n",
        "    for i in range(len(vocabulary)):\n",
        "      if vocabulary[i] in sentence.split():\n",
        "        sentence_list[i] = 1\n",
        "\n",
        "    vectorized_list.append(sentence_list)\n",
        "\n",
        "  vectorized_list_new = np.array(vectorized_list, dtype=np.float32)\n",
        "\n",
        "  return vectorized_list_new"
      ],
      "metadata": {
        "id": "wnpxGCAhsD9x"
      },
      "execution_count": null,
      "outputs": []
    },
    {
      "cell_type": "code",
      "source": [
        "def get_prediction(vectorized_txt):\n",
        "  prediction = model.predict(vectorized_txt)\n",
        "  if prediction > 0:\n",
        "    return \"positive\"\n",
        "  else:\n",
        "    return \"negative\""
      ],
      "metadata": {
        "id": "vbkhH-iMvsJD"
      },
      "execution_count": null,
      "outputs": []
    },
    {
      "cell_type": "code",
      "source": [
        "txt = \"this is very good . i love this so much\"\n",
        "preprocessed_txt = preprocessing([txt])\n",
        "vectorized_txt = vectorizer(preprocessed_txt, token)\n",
        "prediction = get_prediction(vectorized_txt)\n",
        "print(prediction)"
      ],
      "metadata": {
        "colab": {
          "base_uri": "https://localhost:8080/"
        },
        "id": "VwRL9-bksXT1",
        "outputId": "d48956df-6c65-4fff-e5d5-87a10c13f087"
      },
      "execution_count": null,
      "outputs": [
        {
          "output_type": "stream",
          "name": "stdout",
          "text": [
            "negative\n"
          ]
        }
      ]
    },
    {
      "cell_type": "code",
      "source": [
        "model.predict(vectorized_txt)"
      ],
      "metadata": {
        "colab": {
          "base_uri": "https://localhost:8080/"
        },
        "id": "YOwbajr-uANm",
        "outputId": "ea106340-b646-456e-e95e-4cbc94bdd7d2"
      },
      "execution_count": null,
      "outputs": [
        {
          "output_type": "execute_result",
          "data": {
            "text/plain": [
              "array([1])"
            ]
          },
          "metadata": {},
          "execution_count": 62
        }
      ]
    }
  ]
}